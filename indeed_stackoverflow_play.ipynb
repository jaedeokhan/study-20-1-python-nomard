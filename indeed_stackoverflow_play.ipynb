{
 "cells": [
  {
   "cell_type": "code",
   "execution_count": null,
   "metadata": {},
   "outputs": [],
   "source": [
    "from indeed import get_jobs as get_indeed_jobs\n",
    "from stackoverflow import get_jobs as get_so_jobs\n",
    "from save import save_to_file\n",
    "\n",
    "so_jobs = get_so_jobs()\n",
    "indeed_jobs = get_indeed_jobs()\n",
    "jobs =  so_jobs + indeed_jobs\n",
    "save_to_file(jobs)\n",
    "\n",
    "# CSV = Comma Separated Value\n",
    "\n",
    "\n"
   ]
  }
 ],
 "metadata": {
  "kernelspec": {
   "display_name": "Python [conda env:py36] *",
   "language": "python",
   "name": "conda-env-py36-py"
  },
  "language_info": {
   "codemirror_mode": {
    "name": "ipython",
    "version": 3
   },
   "file_extension": ".py",
   "mimetype": "text/x-python",
   "name": "python",
   "nbconvert_exporter": "python",
   "pygments_lexer": "ipython3",
   "version": "3.6.10"
  }
 },
 "nbformat": 4,
 "nbformat_minor": 2
}
