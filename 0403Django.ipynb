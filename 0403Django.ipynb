{
 "cells": [
  {
   "cell_type": "code",
   "execution_count": 2,
   "metadata": {},
   "outputs": [
    {
     "name": "stdout",
     "output_type": "stream",
     "text": [
      "1 1 1 1 1 1 1 1 1 1 1 1 1 1 1 1 11 1 1 1 1 1 1 1\n"
     ]
    }
   ],
   "source": [
    "def plus(a,b):\n",
    "    return a + b\n",
    "\n",
    "print (1,1,1,1,1,1,1,1,1,1,1,1,1,1,1,1,11,1,1,1,1,1,1,1)"
   ]
  },
  {
   "cell_type": "code",
   "execution_count": 10,
   "metadata": {},
   "outputs": [
    {
     "name": "stdout",
     "output_type": "stream",
     "text": [
      "(1, 2, 3, 4, 5, 6)\n"
     ]
    },
    {
     "data": {
      "text/plain": [
       "3"
      ]
     },
     "execution_count": 10,
     "metadata": {},
     "output_type": "execute_result"
    }
   ],
   "source": [
    "def plus(a,b, *args):\n",
    "    print (args)\n",
    "    return a + b\n",
    "\n",
    "plus(1,2, 1, 2, 3, 4, 5, 6)"
   ]
  },
  {
   "cell_type": "code",
   "execution_count": 9,
   "metadata": {},
   "outputs": [
    {
     "name": "stdout",
     "output_type": "stream",
     "text": [
      "(3, 4, 5, 6, 7, 8, 9, 10) {'eh': True, 'ff': False}\n"
     ]
    },
    {
     "data": {
      "text/plain": [
       "3"
      ]
     },
     "execution_count": 9,
     "metadata": {},
     "output_type": "execute_result"
    }
   ],
   "source": [
    "def plus(a, b, *args, **kwargs):\n",
    "    print (args, kwargs)\n",
    "    return a + b\n",
    "\n",
    "plus(1,2,3,4,5,6,7,8,9,10, eh=True, ff=False)"
   ]
  },
  {
   "cell_type": "code",
   "execution_count": 16,
   "metadata": {},
   "outputs": [
    {
     "data": {
      "text/plain": [
       "6"
      ]
     },
     "execution_count": 16,
     "metadata": {},
     "output_type": "execute_result"
    }
   ],
   "source": [
    "def plus(*args):\n",
    "    result = 0\n",
    "    for number in args:\n",
    "        result += number\n",
    "    return result\n",
    "\n",
    "plus(1,2,3)"
   ]
  },
  {
   "cell_type": "code",
   "execution_count": 22,
   "metadata": {},
   "outputs": [],
   "source": [
    "class Car():\n",
    "    wheels = 4\n",
    "    doors = 4\n",
    "    windows = 4\n",
    "    seats = 4\n",
    "    \n",
    "porche = Car()\n",
    "porche.color = 'Red'\n",
    "\n",
    "ferrai = Car()\n",
    "ferrai.color = 'Yellow'\n",
    "\n",
    "mini = Car()\n",
    "mini.color = 'White'\n",
    "\n"
   ]
  },
  {
   "cell_type": "code",
   "execution_count": 31,
   "metadata": {},
   "outputs": [
    {
     "name": "stdout",
     "output_type": "stream",
     "text": [
      "4\n",
      "I started\n"
     ]
    }
   ],
   "source": [
    "class Car():\n",
    "    wheels = 4\n",
    "    doors = 4\n",
    "    windows = 4\n",
    "    seats = 4\n",
    "    def start(self):\n",
    "        print (self.doors)\n",
    "        print (\"I started\")\n",
    "        \n",
    "porche = Car()\n",
    "porche.color = 'Red'\n",
    "porche.start()\n"
   ]
  },
  {
   "cell_type": "code",
   "execution_count": 35,
   "metadata": {},
   "outputs": [
    {
     "name": "stdout",
     "output_type": "stream",
     "text": [
      "lalalalalla\n"
     ]
    }
   ],
   "source": [
    "class Car():\n",
    "    wheels = 4\n",
    "    doors = 4\n",
    "    windows = 4\n",
    "    seats = 4\n",
    "\n",
    "    def __str__(self):\n",
    "        return 'lalalalalla')\n",
    "        \n",
    "\n",
    "# dir 은 class안에 있는 모든 것들을 리스트로 보여준다.\n",
    "# print (dir(Car))\n",
    "porche = Car()\n",
    "print (porche)"
   ]
  },
  {
   "cell_type": "code",
   "execution_count": 42,
   "metadata": {},
   "outputs": [
    {
     "name": "stdout",
     "output_type": "stream",
     "text": [
      "green $40\n",
      "black $20\n"
     ]
    }
   ],
   "source": [
    "class Car():    \n",
    "    def __init__(self, **kwargs):\n",
    "        self.wheels = 4\n",
    "        self.doors = 4\n",
    "        self.windows = 4\n",
    "        self.seats = 4\n",
    "        self.color = kwargs.get(\"color\", \"black\")\n",
    "        self.price = kwargs.get(\"price\", \"$20\")\n",
    "    \n",
    "    def __str__(self):\n",
    "        return f\"Car with {self.wheels} wheels\"\n",
    "    \n",
    "    def take_off(self):\n",
    "        return \"taking off\"\n",
    "\n",
    "# dir 은 class안에 있는 모든 것들을 리스트로 보여준다.\n",
    "# print (dir(Car))\n",
    "porche = Car(color=\"green\", price=\"$40\")\n",
    "print (porche.color, porche.price)\n",
    "\n",
    "mini = Car()\n",
    "print (mini.color, mini.price)"
   ]
  },
  {
   "cell_type": "code",
   "execution_count": 45,
   "metadata": {},
   "outputs": [
    {
     "data": {
      "text/plain": [
       "'taking off'"
      ]
     },
     "execution_count": 45,
     "metadata": {},
     "output_type": "execute_result"
    }
   ],
   "source": [
    "# 위에서 take_off를 하는 문을 여는 차량은 한정적인데 위의 클래스에서 가지고 있는 것은 비효율적이다.\n",
    "class Convertible():    \n",
    "    def __init__(self, **kwargs):\n",
    "        self.wheels = 4\n",
    "        self.doors = 4\n",
    "        self.windows = 4\n",
    "        self.seats = 4\n",
    "        self.color = kwargs.get(\"color\", \"black\")\n",
    "        self.price = kwargs.get(\"price\", \"$20\")\n",
    "    \n",
    "    def __str__(self):\n",
    "        return f\"Car with {self.wheels} wheels\"\n",
    "    \n",
    "    def take_off(self):\n",
    "        return \"taking off\"\n",
    "    \n",
    "porche = Convertible(color=\"green\", price=\"$40\")\n",
    "porche.take_off()\n"
   ]
  },
  {
   "cell_type": "code",
   "execution_count": 50,
   "metadata": {},
   "outputs": [
    {
     "name": "stdout",
     "output_type": "stream",
     "text": [
      "green\n"
     ]
    }
   ],
   "source": [
    "# inherit , extend\n",
    "class Convertible(Car):\n",
    "\n",
    "    def __init__(self, **kwargs):\n",
    "        # super를 통해서 부모 클래스에 접근이 가능하다.\n",
    "        super().__init__(**kwargs)\n",
    "        self.time = kwargs.get('time', 10) \n",
    "        \n",
    "        \n",
    "    def take_off(self):\n",
    "        return \"taking off\"\n",
    "    \n",
    "    # Override\n",
    "    def __str__(self):\n",
    "        return f\"Car with no roof\"\n",
    "\n",
    "class Something(Convertible):\n",
    "    pass\n",
    "\n",
    "porche = Convertible(color=\"green\", price=\"$40\")\n",
    "print (porche.color)"
   ]
  },
  {
   "cell_type": "code",
   "execution_count": null,
   "metadata": {},
   "outputs": [],
   "source": []
  },
  {
   "cell_type": "code",
   "execution_count": null,
   "metadata": {},
   "outputs": [],
   "source": []
  }
 ],
 "metadata": {
  "kernelspec": {
   "display_name": "Python [conda env:py36] *",
   "language": "python",
   "name": "conda-env-py36-py"
  },
  "language_info": {
   "codemirror_mode": {
    "name": "ipython",
    "version": 3
   },
   "file_extension": ".py",
   "mimetype": "text/x-python",
   "name": "python",
   "nbconvert_exporter": "python",
   "pygments_lexer": "ipython3",
   "version": "3.6.10"
  }
 },
 "nbformat": 4,
 "nbformat_minor": 2
}
