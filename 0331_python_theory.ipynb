{
 "cells": [
  {
   "cell_type": "code",
   "execution_count": 3,
   "metadata": {},
   "outputs": [
    {
     "name": "stdout",
     "output_type": "stream",
     "text": [
      "5\n"
     ]
    }
   ],
   "source": [
    "a = 2\n",
    "b = 3\n",
    "print (a + b)"
   ]
  },
  {
   "cell_type": "code",
   "execution_count": 5,
   "metadata": {},
   "outputs": [
    {
     "name": "stdout",
     "output_type": "stream",
     "text": [
      "like this3\n"
     ]
    }
   ],
   "source": [
    "a = 'like this'\n",
    "b = 3\n",
    "print (a+str(b))"
   ]
  },
  {
   "cell_type": "code",
   "execution_count": 10,
   "metadata": {},
   "outputs": [
    {
     "name": "stdout",
     "output_type": "stream",
     "text": [
      "<class 'str'>\n",
      "<class 'int'>\n",
      "<class 'float'>\n",
      "<class 'bool'>\n",
      "<class 'NoneType'>\n",
      "<class 'dict'>\n",
      "<class 'tuple'>\n",
      "<class 'list'>\n"
     ]
    }
   ],
   "source": [
    "a_string = 'like python'\n",
    "a_number = 3\n",
    "a_float = 3.12\n",
    "a_boolean = False\n",
    "a_none = None\n",
    "a_dict = {'jae':'deok'}\n",
    "a_tuple = (3, 5)\n",
    "a_list = [1,2,3,4,5,6]\n",
    "\n",
    "print(type(a_string))\n",
    "print(type(a_number))\n",
    "print(type(a_float))\n",
    "print(type(a_boolean))\n",
    "print(type(a_none))\n",
    "print(type(a_dict))\n",
    "print(type(a_tuple))\n",
    "print(type(a_list))"
   ]
  },
  {
   "cell_type": "code",
   "execution_count": 27,
   "metadata": {},
   "outputs": [
    {
     "name": "stdout",
     "output_type": "stream",
     "text": [
      "<class 'list'>\n",
      "True\n",
      "Wed\n",
      "5\n",
      "['Mon', 'Tue', 'Wed', 'Thur', 'Fri', 'SAT']\n",
      "['SAT', 'Fri', 'Thur', 'Wed', 'Tue', 'Mon']\n"
     ]
    }
   ],
   "source": [
    "days = ['Mon', 'Tue', 'Wed', 'Thur', 'Fri']\n",
    "print (type(days)) # list\n",
    "print ('Mon' in days)\n",
    "print (days[2])\n",
    "print (len(days))\n",
    "days.append('SAT')\n",
    "print (days)\n",
    "days.reverse()\n",
    "print (days)"
   ]
  },
  {
   "cell_type": "code",
   "execution_count": 1,
   "metadata": {},
   "outputs": [
    {
     "name": "stdout",
     "output_type": "stream",
     "text": [
      "<class 'tuple'>\n"
     ]
    }
   ],
   "source": [
    "days = ('Mon', 'Tue', 'Wed', 'Thur', 'Fri')\n",
    "\n",
    "print (type(days))"
   ]
  },
  {
   "cell_type": "code",
   "execution_count": 16,
   "metadata": {},
   "outputs": [
    {
     "name": "stdout",
     "output_type": "stream",
     "text": [
      "Nico\n",
      "['Kimchi', 'Sashimi']\n",
      "{'name': 'Nico', 'age': 29, 'korean': True, 'fav_food': ['Kimchi', 'Sashimi'], 'handsome': True}\n",
      "['tntt', True, 12, None, False, 'laslaslas']\n",
      "('tntt', True, 12, None, False, 'laslaslas')\n"
     ]
    }
   ],
   "source": [
    "name = \"Nico\"\n",
    "age = 29\n",
    "korean = True\n",
    "fav_food = [\"Kimchi\", \"Sashimi\"]\n",
    "\n",
    "# dictonary -> key, value \n",
    "nico = {\n",
    "    'name' : 'Nico',\n",
    "    'age' : 29,\n",
    "    'korean' : True,\n",
    "    'fav_food' : [\"Kimchi\", \"Sashimi\"]\n",
    "}\n",
    "\n",
    "something_list = ['tntt', True, 12, None, False, 'laslaslas']\n",
    "something_tuple = ('tntt', True, 12, None, False, 'laslaslas')\n",
    "\n",
    "print (nico['name'])\n",
    "print (nico['fav_food'])\n",
    "nico['handsome'] = True\n",
    "print (nico)\n",
    "print (something_list)\n",
    "print (something_tuple)\n"
   ]
  },
  {
   "cell_type": "markdown",
   "metadata": {},
   "source": [
    "## 1.3 Built in Functions\n",
    "### Python standard library\n",
    "* len()\n",
    "* print()\n"
   ]
  },
  {
   "cell_type": "code",
   "execution_count": 34,
   "metadata": {},
   "outputs": [
    {
     "name": "stdout",
     "output_type": "stream",
     "text": [
      "25\n",
      "<class 'str'>\n",
      "<class 'int'>\n"
     ]
    }
   ],
   "source": [
    "print(len('adfasdfasdfasdfasdfafasdf'))\n",
    "age = '18'\n",
    "print (type(age))\n",
    "print (type(int(age)))\n"
   ]
  },
  {
   "cell_type": "markdown",
   "metadata": {},
   "source": [
    "## 1.4 Creating a Your First Python Function "
   ]
  },
  {
   "cell_type": "code",
   "execution_count": 40,
   "metadata": {},
   "outputs": [
    {
     "name": "stdout",
     "output_type": "stream",
     "text": [
      "hello world\n",
      "Bye\n"
     ]
    }
   ],
   "source": [
    "def say_hello():\n",
    "    print ('hello world')\n",
    "    print ('Bye')\n",
    "    \n",
    "say_hello()    \n"
   ]
  },
  {
   "cell_type": "markdown",
   "metadata": {},
   "source": [
    "## 1.5 Function Arugments"
   ]
  },
  {
   "cell_type": "code",
   "execution_count": 80,
   "metadata": {},
   "outputs": [
    {
     "name": "stdout",
     "output_type": "stream",
     "text": [
      "hello  Nicolas\n",
      "hello  deok\n",
      "hello  nyeon\n",
      "hello  <class 'int'>\n",
      "hello  <class 'bool'>\n",
      "3\n",
      "-2\n"
     ]
    }
   ],
   "source": [
    "def printf(who):\n",
    "    print ('hello ',who)\n",
    "\n",
    "printf(\"Nicolas\")\n",
    "printf('deok')\n",
    "printf('nyeon')\n",
    "printf(type(1234))\n",
    "printf(type(True))\n",
    "\n",
    "# default value\n",
    "def plus(a,b = 0):\n",
    "    print (a + b)\n",
    "\n",
    "def minus(a,b):\n",
    "    print (a - b)\n",
    "    \n",
    "    \n",
    "plus(3)\n",
    "minus(3, 5)"
   ]
  },
  {
   "cell_type": "code",
   "execution_count": 73,
   "metadata": {},
   "outputs": [
    {
     "name": "stdout",
     "output_type": "stream",
     "text": [
      "15\n",
      "-5\n"
     ]
    }
   ],
   "source": [
    "class calculator():\n",
    "    def set_number(self, a, b):\n",
    "        self.a = a \n",
    "        self.b = b\n",
    "    def plus(self):\n",
    "        result = self.a + self.b\n",
    "        return result\n",
    "    def minus(self):\n",
    "        result = self.a - self.b\n",
    "        return result\n",
    "    \n",
    "a = calculator()\n",
    "a.set_number(5,10)\n",
    "\n",
    "print (a.plus())\n",
    "print (a.minus())"
   ]
  },
  {
   "cell_type": "markdown",
   "metadata": {},
   "source": [
    "## 1.6 Return "
   ]
  },
  {
   "cell_type": "code",
   "execution_count": 81,
   "metadata": {},
   "outputs": [
    {
     "name": "stdout",
     "output_type": "stream",
     "text": [
      "5\n",
      "None\n",
      "5\n"
     ]
    }
   ],
   "source": [
    "def p_plus(a,b):\n",
    "    print (a + b)\n",
    "\n",
    "\n",
    "def r_plus(a,b):\n",
    "    return a + b \n",
    "\n",
    "p_result = p_plus(2,3)\n",
    "r_result = r_plus(2,3)\n",
    "\n",
    "print (p_result)\n",
    "print (r_result)\n",
    ")"
   ]
  },
  {
   "cell_type": "code",
   "execution_count": 83,
   "metadata": {},
   "outputs": [
    {
     "name": "stdout",
     "output_type": "stream",
     "text": [
      "6\n"
     ]
    }
   ],
   "source": [
    "def r_plus(a, b):\n",
    "    return a + b\n",
    "    print (\"osemthtin hrefealalalalalallala\", True)\n",
    "\n",
    "r_result = r_plus(2,4)\n",
    "print (r_result)"
   ]
  },
  {
   "cell_type": "markdown",
   "metadata": {},
   "source": [
    "## 1.8 Keyworded Arguments"
   ]
  },
  {
   "cell_type": "code",
   "execution_count": 85,
   "metadata": {},
   "outputs": [
    {
     "name": "stdout",
     "output_type": "stream",
     "text": [
      "-29\n"
     ]
    }
   ],
   "source": [
    "def plus(a,b):\n",
    "    return a - b\n",
    "\n",
    "result = plus(b = 30, a = 1)\n",
    "print (result)\n"
   ]
  },
  {
   "cell_type": "code",
   "execution_count": 88,
   "metadata": {},
   "outputs": [
    {
     "name": "stdout",
     "output_type": "stream",
     "text": [
      "Hello nico you are 12 your are from daegu you like pizza\n"
     ]
    }
   ],
   "source": [
    "def say_hello(name, age, are_from, fav_food):\n",
    "    return f\"Hello {name} you are {age} your are from {are_from} you like {fav_food}\" \n",
    "\n",
    "\n",
    "hello  = say_hello(age='12',name='nico', are_from='daegu', fav_food='pizza')\n",
    "print (hello)"
   ]
  },
  {
   "cell_type": "code",
   "execution_count": 98,
   "metadata": {},
   "outputs": [],
   "source": [
    "class Calculator():\n",
    "    def set_number(self, a, b):\n",
    "        self.a = int(a)\n",
    "        self.b = int(b)\n",
    "    def plus(self):\n",
    "        result = self.a + self.b\n",
    "        return result\n",
    "    \n",
    "    def minus(self):\n",
    "        result = self.a - self.b\n",
    "        return result\n",
    "    \n",
    "    def times(self):\n",
    "        result = self.a * self.b\n",
    "        return result\n",
    "    \n",
    "    def division(self):\n",
    "        result = self.a / self.b\n",
    "        return result\n",
    "    \n",
    "    def negation(self):\n",
    "        result = -self.a\n",
    "        return result\n",
    "    \n",
    "    def power(self):\n",
    "        result = self.a ** self.b\n",
    "        return result\n",
    "    \n",
    "    def reminder(self):\n",
    "        result = self.a % self.b\n",
    "        return result\n",
    "    "
   ]
  },
  {
   "cell_type": "code",
   "execution_count": 106,
   "metadata": {},
   "outputs": [
    {
     "name": "stdout",
     "output_type": "stream",
     "text": [
      "15\n",
      "-5\n",
      "50\n",
      "0.5\n",
      "-5\n",
      "9765625\n",
      "5\n"
     ]
    }
   ],
   "source": [
    "a = Calculator()\n",
    "a.set_number(5, 10)\n",
    "print (a.plus())\n",
    "print (a.minus())\n",
    "print (a.times())\n",
    "print (a.division())\n",
    "print (a.negation())\n",
    "print (a.power())\n",
    "print (a.reminder())"
   ]
  },
  {
   "cell_type": "code",
   "execution_count": 130,
   "metadata": {},
   "outputs": [
    {
     "name": "stdout",
     "output_type": "stream",
     "text": [
      "15\n",
      "Use type int\n"
     ]
    }
   ],
   "source": [
    "def plus(a,b):\n",
    "    if (type(a) == str or type(b) == str):\n",
    "        return \"no string, use int\"\n",
    "    else: \n",
    "        return a + b\n",
    "\n",
    "plus(12, '10')\n",
    "\n",
    "def b_plus(a,b):\n",
    "    if type(a) is int or type(b) is float:\n",
    "        return a + b\n",
    "    else:\n",
    "        return \"Use type int\"\n",
    "\n",
    "print (b_plus(5, 10))\n",
    "print (b_plus('5', 10))"
   ]
  },
  {
   "cell_type": "markdown",
   "metadata": {},
   "source": [
    "## 1.11 if else and or "
   ]
  },
  {
   "cell_type": "code",
   "execution_count": 139,
   "metadata": {},
   "outputs": [
    {
     "name": "stdout",
     "output_type": "stream",
     "text": [
      "you are 19\n",
      "you are new to this!\n"
     ]
    }
   ],
   "source": [
    "# 18 세 이상면 음주 가능, 18세 이하면 음주 불가능\n",
    "def age_check(age):\n",
    "    print (f\"you are {age}\")\n",
    "    if age < 18:\n",
    "        print (\"you can't drink\")\n",
    "    elif age == 18 or age == 19: \n",
    "        print ('you are new to this!')\n",
    "    elif age > 20 and age < 25:\n",
    "        print ('your are still kind of young')\n",
    "    else:\n",
    "        print ('enjoy your drink')\n",
    "\n",
    "        \n",
    "age_check(19)"
   ]
  },
  {
   "cell_type": "markdown",
   "metadata": {},
   "source": [
    "## 1.12 for in"
   ]
  },
  {
   "cell_type": "code",
   "execution_count": 147,
   "metadata": {},
   "outputs": [
    {
     "name": "stdout",
     "output_type": "stream",
     "text": [
      "Mon Tue "
     ]
    }
   ],
   "source": [
    "days = ('Mon', 'Tue', 'Wed', 'Thu', 'Fri')\n",
    "\n",
    "for day in days:\n",
    "    if day is 'Wed':\n",
    "        break\n",
    "    else:\n",
    "        print(day, end=' ')\n"
   ]
  },
  {
   "cell_type": "code",
   "execution_count": 148,
   "metadata": {},
   "outputs": [
    {
     "name": "stdout",
     "output_type": "stream",
     "text": [
      "n\n",
      "i\n",
      "c\n",
      "o\n",
      "l\n",
      "a\n",
      "s\n"
     ]
    }
   ],
   "source": [
    "for letter in 'nicolas':\n",
    "    print (letter)"
   ]
  },
  {
   "cell_type": "markdown",
   "metadata": {},
   "source": [
    "## 1.13 Modules\n"
   ]
  },
  {
   "cell_type": "code",
   "execution_count": 161,
   "metadata": {},
   "outputs": [
    {
     "name": "stdout",
     "output_type": "stream",
     "text": [
      "2\n",
      "1.2\n",
      "1.2\n"
     ]
    }
   ],
   "source": [
    "import math\n",
    "print (math.ceil(1.2)) # 1.2 올림하는 값\n",
    "print (math.fabs(1.2)) # abs \n",
    "print (math.fabs(-1.2))"
   ]
  },
  {
   "cell_type": "code",
   "execution_count": 159,
   "metadata": {},
   "outputs": [
    {
     "name": "stdout",
     "output_type": "stream",
     "text": [
      "2\n",
      "28.0\n"
     ]
    }
   ],
   "source": [
    "from math import ceil, fsum\n",
    "\n",
    "print (ceil(1.2))\n",
    "print (fsum([1,2,3,4,5,6,7]))"
   ]
  },
  {
   "cell_type": "code",
   "execution_count": 160,
   "metadata": {},
   "outputs": [],
   "source": [
    "from math import fsum as fm"
   ]
  },
  {
   "cell_type": "code",
   "execution_count": null,
   "metadata": {},
   "outputs": [],
   "source": []
  },
  {
   "cell_type": "code",
   "execution_count": null,
   "metadata": {},
   "outputs": [],
   "source": []
  },
  {
   "cell_type": "code",
   "execution_count": null,
   "metadata": {},
   "outputs": [],
   "source": []
  },
  {
   "cell_type": "code",
   "execution_count": null,
   "metadata": {},
   "outputs": [],
   "source": []
  },
  {
   "cell_type": "code",
   "execution_count": null,
   "metadata": {},
   "outputs": [],
   "source": []
  },
  {
   "cell_type": "code",
   "execution_count": null,
   "metadata": {},
   "outputs": [],
   "source": []
  }
 ],
 "metadata": {
  "kernelspec": {
   "display_name": "Python 3",
   "language": "python",
   "name": "python3"
  },
  "language_info": {
   "codemirror_mode": {
    "name": "ipython",
    "version": 3
   },
   "file_extension": ".py",
   "mimetype": "text/x-python",
   "name": "python",
   "nbconvert_exporter": "python",
   "pygments_lexer": "ipython3",
   "version": "3.7.0"
  }
 },
 "nbformat": 4,
 "nbformat_minor": 2
}
